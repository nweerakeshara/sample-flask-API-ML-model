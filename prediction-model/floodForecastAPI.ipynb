{
 "cells": [
  {
   "cell_type": "code",
   "execution_count": 5,
   "metadata": {},
   "outputs": [],
   "source": [
    "from fastapi import FastAPI\n",
    "from pydantic import BaseModel\n",
    "import pickle\n",
    "import json\n",
    "import pandas as pd\n",
    "import uvicorn"
   ]
  },
  {
   "cell_type": "code",
   "execution_count": 6,
   "metadata": {},
   "outputs": [],
   "source": [
    "app = FastAPI()\n",
    "\n",
    "class model_input(BaseModel):\n",
    "    \n",
    "    Mean_Windspeed : float\n",
    "    Wind_Direction : int\n",
    "    Mean_Tempurature : float\n",
    "    Humidity : int\n",
    "    Duration : int\n",
    "    Rainfall : float   "
   ]
  },
  {
   "cell_type": "code",
   "execution_count": 7,
   "metadata": {},
   "outputs": [],
   "source": [
    "# loading the saved model\n",
    "loaded_model = pickle.load(open('flood_forecast_model.sav', 'rb'))"
   ]
  },
  {
   "cell_type": "code",
   "execution_count": 8,
   "metadata": {},
   "outputs": [],
   "source": [
    "@app.post('/flood_prediction')\n",
    "def diabetes_predd(input_parameters : model_input):\n",
    "    \n",
    "    input_data = input_parameters.json()\n",
    "    input_dictionary = json.loads(input_data)\n",
    "    \n",
    "    Mean_Windspeed = input_dictionary['Mean_Windspeed']\n",
    "    Wind_Direction = input_dictionary['Wind_Direction']\n",
    "    Mean_Tempurature = input_dictionary['Mean_Tempurature']\n",
    "    Humidity = input_dictionary['Humidity']\n",
    "    Duration = input_dictionary['Duration']\n",
    "    Rainfall = input_dictionary['Rainfall']\n",
    "\n",
    "    new_data = pd.DataFrame(input_data)\n",
    "    predicted_rainfall = loaded_model.predict(new_data)\n",
    "\n",
    "    return predicted_rainfall"
   ]
  }
 ],
 "metadata": {
  "kernelspec": {
   "display_name": "Python 3 (ipykernel)",
   "language": "python",
   "name": "python3"
  },
  "language_info": {
   "codemirror_mode": {
    "name": "ipython",
    "version": 3
   },
   "file_extension": ".py",
   "mimetype": "text/x-python",
   "name": "python",
   "nbconvert_exporter": "python",
   "pygments_lexer": "ipython3",
   "version": "3.11.7"
  }
 },
 "nbformat": 4,
 "nbformat_minor": 4
}
